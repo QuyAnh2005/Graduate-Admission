{
 "cells": [
  {
   "cell_type": "code",
   "execution_count": 2,
   "metadata": {
    "executionInfo": {
     "elapsed": 1048,
     "status": "ok",
     "timestamp": 1624190739729,
     "user": {
      "displayName": "Anh Dang Quy",
      "photoUrl": "https://lh3.googleusercontent.com/a-/AOh14Gjc9oywxROujI5Y7HUJPeay-CsytQ-LfJr_OOSl=s64",
      "userId": "02485246420508664150"
     },
     "user_tz": -420
    },
    "id": "3Q64G7N-CERj"
   },
   "outputs": [],
   "source": [
    "import pandas as pd\n",
    "import numpy as np\n",
    "from matplotlib import pyplot as plt\n",
    "import seaborn as sns"
   ]
  },
  {
   "cell_type": "markdown",
   "metadata": {
    "id": "uxI11WyMGM1d"
   },
   "source": [
    "# **Exploratory Data Analysis**"
   ]
  },
  {
   "cell_type": "code",
   "execution_count": 3,
   "metadata": {
    "colab": {
     "base_uri": "https://localhost:8080/",
     "height": 204
    },
    "executionInfo": {
     "elapsed": 19,
     "status": "ok",
     "timestamp": 1624190739734,
     "user": {
      "displayName": "Anh Dang Quy",
      "photoUrl": "https://lh3.googleusercontent.com/a-/AOh14Gjc9oywxROujI5Y7HUJPeay-CsytQ-LfJr_OOSl=s64",
      "userId": "02485246420508664150"
     },
     "user_tz": -420
    },
    "id": "FjInwLIECsdg",
    "outputId": "20e2b5a7-f683-4b9d-b8c1-41e9d788c303"
   },
   "outputs": [
    {
     "data": {
      "text/html": [
       "<div>\n",
       "<style scoped>\n",
       "    .dataframe tbody tr th:only-of-type {\n",
       "        vertical-align: middle;\n",
       "    }\n",
       "\n",
       "    .dataframe tbody tr th {\n",
       "        vertical-align: top;\n",
       "    }\n",
       "\n",
       "    .dataframe thead th {\n",
       "        text-align: right;\n",
       "    }\n",
       "</style>\n",
       "<table border=\"1\" class=\"dataframe\">\n",
       "  <thead>\n",
       "    <tr style=\"text-align: right;\">\n",
       "      <th></th>\n",
       "      <th>Serial No.</th>\n",
       "      <th>GRE Score</th>\n",
       "      <th>TOEFL Score</th>\n",
       "      <th>University Rating</th>\n",
       "      <th>SOP</th>\n",
       "      <th>LOR</th>\n",
       "      <th>CGPA</th>\n",
       "      <th>Research</th>\n",
       "      <th>Chance of Admit</th>\n",
       "    </tr>\n",
       "  </thead>\n",
       "  <tbody>\n",
       "    <tr>\n",
       "      <th>0</th>\n",
       "      <td>1</td>\n",
       "      <td>337</td>\n",
       "      <td>118</td>\n",
       "      <td>4</td>\n",
       "      <td>4.5</td>\n",
       "      <td>4.5</td>\n",
       "      <td>9.65</td>\n",
       "      <td>1</td>\n",
       "      <td>0.92</td>\n",
       "    </tr>\n",
       "    <tr>\n",
       "      <th>1</th>\n",
       "      <td>2</td>\n",
       "      <td>324</td>\n",
       "      <td>107</td>\n",
       "      <td>4</td>\n",
       "      <td>4.0</td>\n",
       "      <td>4.5</td>\n",
       "      <td>8.87</td>\n",
       "      <td>1</td>\n",
       "      <td>0.76</td>\n",
       "    </tr>\n",
       "    <tr>\n",
       "      <th>2</th>\n",
       "      <td>3</td>\n",
       "      <td>316</td>\n",
       "      <td>104</td>\n",
       "      <td>3</td>\n",
       "      <td>3.0</td>\n",
       "      <td>3.5</td>\n",
       "      <td>8.00</td>\n",
       "      <td>1</td>\n",
       "      <td>0.72</td>\n",
       "    </tr>\n",
       "    <tr>\n",
       "      <th>3</th>\n",
       "      <td>4</td>\n",
       "      <td>322</td>\n",
       "      <td>110</td>\n",
       "      <td>3</td>\n",
       "      <td>3.5</td>\n",
       "      <td>2.5</td>\n",
       "      <td>8.67</td>\n",
       "      <td>1</td>\n",
       "      <td>0.80</td>\n",
       "    </tr>\n",
       "    <tr>\n",
       "      <th>4</th>\n",
       "      <td>5</td>\n",
       "      <td>314</td>\n",
       "      <td>103</td>\n",
       "      <td>2</td>\n",
       "      <td>2.0</td>\n",
       "      <td>3.0</td>\n",
       "      <td>8.21</td>\n",
       "      <td>0</td>\n",
       "      <td>0.65</td>\n",
       "    </tr>\n",
       "  </tbody>\n",
       "</table>\n",
       "</div>"
      ],
      "text/plain": [
       "   Serial No.  GRE Score  TOEFL Score  ...  CGPA  Research  Chance of Admit \n",
       "0           1        337          118  ...  9.65         1              0.92\n",
       "1           2        324          107  ...  8.87         1              0.76\n",
       "2           3        316          104  ...  8.00         1              0.72\n",
       "3           4        322          110  ...  8.67         1              0.80\n",
       "4           5        314          103  ...  8.21         0              0.65\n",
       "\n",
       "[5 rows x 9 columns]"
      ]
     },
     "execution_count": 3,
     "metadata": {
      "tags": []
     },
     "output_type": "execute_result"
    }
   ],
   "source": [
    "# Load data from google drive and show first five rows\n",
    "\n",
    "data = pd.read_csv('/content/drive/MyDrive/Project/Graduate Admission Project/admissions_data.csv')\n",
    "data.head()"
   ]
  },
  {
   "cell_type": "code",
   "execution_count": 4,
   "metadata": {
    "colab": {
     "base_uri": "https://localhost:8080/"
    },
    "executionInfo": {
     "elapsed": 15,
     "status": "ok",
     "timestamp": 1624190739735,
     "user": {
      "displayName": "Anh Dang Quy",
      "photoUrl": "https://lh3.googleusercontent.com/a-/AOh14Gjc9oywxROujI5Y7HUJPeay-CsytQ-LfJr_OOSl=s64",
      "userId": "02485246420508664150"
     },
     "user_tz": -420
    },
    "id": "v5J4AUMZF6ec",
    "outputId": "f1510e54-79df-4dda-e902-e809c4ba2c27"
   },
   "outputs": [
    {
     "data": {
      "text/plain": [
       "(500, 9)"
      ]
     },
     "execution_count": 4,
     "metadata": {
      "tags": []
     },
     "output_type": "execute_result"
    }
   ],
   "source": [
    "# Data has 500 rows and 9 columns\n",
    "\n",
    "data.shape"
   ]
  },
  {
   "cell_type": "code",
   "execution_count": 5,
   "metadata": {
    "colab": {
     "base_uri": "https://localhost:8080/"
    },
    "executionInfo": {
     "elapsed": 12,
     "status": "ok",
     "timestamp": 1624190739736,
     "user": {
      "displayName": "Anh Dang Quy",
      "photoUrl": "https://lh3.googleusercontent.com/a-/AOh14Gjc9oywxROujI5Y7HUJPeay-CsytQ-LfJr_OOSl=s64",
      "userId": "02485246420508664150"
     },
     "user_tz": -420
    },
    "id": "uGglzewLGUQA",
    "outputId": "d2837e05-061d-4ef5-a898-44f5b6df4f3f"
   },
   "outputs": [
    {
     "name": "stdout",
     "output_type": "stream",
     "text": [
      "<class 'pandas.core.frame.DataFrame'>\n",
      "RangeIndex: 500 entries, 0 to 499\n",
      "Data columns (total 9 columns):\n",
      " #   Column             Non-Null Count  Dtype  \n",
      "---  ------             --------------  -----  \n",
      " 0   Serial No.         500 non-null    int64  \n",
      " 1   GRE Score          500 non-null    int64  \n",
      " 2   TOEFL Score        500 non-null    int64  \n",
      " 3   University Rating  500 non-null    int64  \n",
      " 4   SOP                500 non-null    float64\n",
      " 5   LOR                500 non-null    float64\n",
      " 6   CGPA               500 non-null    float64\n",
      " 7   Research           500 non-null    int64  \n",
      " 8   Chance of Admit    500 non-null    float64\n",
      "dtypes: float64(4), int64(5)\n",
      "memory usage: 35.3 KB\n"
     ]
    }
   ],
   "source": [
    "data.info()"
   ]
  },
  {
   "cell_type": "code",
   "execution_count": 6,
   "metadata": {
    "colab": {
     "base_uri": "https://localhost:8080/",
     "height": 297
    },
    "executionInfo": {
     "elapsed": 389,
     "status": "ok",
     "timestamp": 1624190740115,
     "user": {
      "displayName": "Anh Dang Quy",
      "photoUrl": "https://lh3.googleusercontent.com/a-/AOh14Gjc9oywxROujI5Y7HUJPeay-CsytQ-LfJr_OOSl=s64",
      "userId": "02485246420508664150"
     },
     "user_tz": -420
    },
    "id": "i7-mJdvXHtoE",
    "outputId": "c988e1f2-9c18-409e-85cc-c8301454eccf"
   },
   "outputs": [
    {
     "data": {
      "text/html": [
       "<div>\n",
       "<style scoped>\n",
       "    .dataframe tbody tr th:only-of-type {\n",
       "        vertical-align: middle;\n",
       "    }\n",
       "\n",
       "    .dataframe tbody tr th {\n",
       "        vertical-align: top;\n",
       "    }\n",
       "\n",
       "    .dataframe thead th {\n",
       "        text-align: right;\n",
       "    }\n",
       "</style>\n",
       "<table border=\"1\" class=\"dataframe\">\n",
       "  <thead>\n",
       "    <tr style=\"text-align: right;\">\n",
       "      <th></th>\n",
       "      <th>Serial No.</th>\n",
       "      <th>GRE Score</th>\n",
       "      <th>TOEFL Score</th>\n",
       "      <th>University Rating</th>\n",
       "      <th>SOP</th>\n",
       "      <th>LOR</th>\n",
       "      <th>CGPA</th>\n",
       "      <th>Research</th>\n",
       "      <th>Chance of Admit</th>\n",
       "    </tr>\n",
       "  </thead>\n",
       "  <tbody>\n",
       "    <tr>\n",
       "      <th>count</th>\n",
       "      <td>500.000000</td>\n",
       "      <td>500.000000</td>\n",
       "      <td>500.000000</td>\n",
       "      <td>500.000000</td>\n",
       "      <td>500.000000</td>\n",
       "      <td>500.00000</td>\n",
       "      <td>500.000000</td>\n",
       "      <td>500.000000</td>\n",
       "      <td>500.00000</td>\n",
       "    </tr>\n",
       "    <tr>\n",
       "      <th>mean</th>\n",
       "      <td>250.500000</td>\n",
       "      <td>316.472000</td>\n",
       "      <td>107.192000</td>\n",
       "      <td>3.114000</td>\n",
       "      <td>3.374000</td>\n",
       "      <td>3.48400</td>\n",
       "      <td>8.576440</td>\n",
       "      <td>0.560000</td>\n",
       "      <td>0.72174</td>\n",
       "    </tr>\n",
       "    <tr>\n",
       "      <th>std</th>\n",
       "      <td>144.481833</td>\n",
       "      <td>11.295148</td>\n",
       "      <td>6.081868</td>\n",
       "      <td>1.143512</td>\n",
       "      <td>0.991004</td>\n",
       "      <td>0.92545</td>\n",
       "      <td>0.604813</td>\n",
       "      <td>0.496884</td>\n",
       "      <td>0.14114</td>\n",
       "    </tr>\n",
       "    <tr>\n",
       "      <th>min</th>\n",
       "      <td>1.000000</td>\n",
       "      <td>290.000000</td>\n",
       "      <td>92.000000</td>\n",
       "      <td>1.000000</td>\n",
       "      <td>1.000000</td>\n",
       "      <td>1.00000</td>\n",
       "      <td>6.800000</td>\n",
       "      <td>0.000000</td>\n",
       "      <td>0.34000</td>\n",
       "    </tr>\n",
       "    <tr>\n",
       "      <th>25%</th>\n",
       "      <td>125.750000</td>\n",
       "      <td>308.000000</td>\n",
       "      <td>103.000000</td>\n",
       "      <td>2.000000</td>\n",
       "      <td>2.500000</td>\n",
       "      <td>3.00000</td>\n",
       "      <td>8.127500</td>\n",
       "      <td>0.000000</td>\n",
       "      <td>0.63000</td>\n",
       "    </tr>\n",
       "    <tr>\n",
       "      <th>50%</th>\n",
       "      <td>250.500000</td>\n",
       "      <td>317.000000</td>\n",
       "      <td>107.000000</td>\n",
       "      <td>3.000000</td>\n",
       "      <td>3.500000</td>\n",
       "      <td>3.50000</td>\n",
       "      <td>8.560000</td>\n",
       "      <td>1.000000</td>\n",
       "      <td>0.72000</td>\n",
       "    </tr>\n",
       "    <tr>\n",
       "      <th>75%</th>\n",
       "      <td>375.250000</td>\n",
       "      <td>325.000000</td>\n",
       "      <td>112.000000</td>\n",
       "      <td>4.000000</td>\n",
       "      <td>4.000000</td>\n",
       "      <td>4.00000</td>\n",
       "      <td>9.040000</td>\n",
       "      <td>1.000000</td>\n",
       "      <td>0.82000</td>\n",
       "    </tr>\n",
       "    <tr>\n",
       "      <th>max</th>\n",
       "      <td>500.000000</td>\n",
       "      <td>340.000000</td>\n",
       "      <td>120.000000</td>\n",
       "      <td>5.000000</td>\n",
       "      <td>5.000000</td>\n",
       "      <td>5.00000</td>\n",
       "      <td>9.920000</td>\n",
       "      <td>1.000000</td>\n",
       "      <td>0.97000</td>\n",
       "    </tr>\n",
       "  </tbody>\n",
       "</table>\n",
       "</div>"
      ],
      "text/plain": [
       "       Serial No.   GRE Score  ...    Research  Chance of Admit \n",
       "count  500.000000  500.000000  ...  500.000000         500.00000\n",
       "mean   250.500000  316.472000  ...    0.560000           0.72174\n",
       "std    144.481833   11.295148  ...    0.496884           0.14114\n",
       "min      1.000000  290.000000  ...    0.000000           0.34000\n",
       "25%    125.750000  308.000000  ...    0.000000           0.63000\n",
       "50%    250.500000  317.000000  ...    1.000000           0.72000\n",
       "75%    375.250000  325.000000  ...    1.000000           0.82000\n",
       "max    500.000000  340.000000  ...    1.000000           0.97000\n",
       "\n",
       "[8 rows x 9 columns]"
      ]
     },
     "execution_count": 6,
     "metadata": {
      "tags": []
     },
     "output_type": "execute_result"
    }
   ],
   "source": [
    "data.describe()"
   ]
  },
  {
   "cell_type": "code",
   "execution_count": 7,
   "metadata": {
    "executionInfo": {
     "elapsed": 25,
     "status": "ok",
     "timestamp": 1624190740117,
     "user": {
      "displayName": "Anh Dang Quy",
      "photoUrl": "https://lh3.googleusercontent.com/a-/AOh14Gjc9oywxROujI5Y7HUJPeay-CsytQ-LfJr_OOSl=s64",
      "userId": "02485246420508664150"
     },
     "user_tz": -420
    },
    "id": "9YCbSiCJC732"
   },
   "outputs": [],
   "source": [
    "# Function for showing null or nan value and type value of each column\n",
    "def summary(data):\n",
    "  ''' Input: \n",
    "        A dataframe are loaded\n",
    "      Output:\n",
    "        A dataframe has three columns with percentage of missing data,\n",
    "        number of unique value and type of values.'''\n",
    "  missing_values = data.isnull().sum()\n",
    "\n",
    "  percent_missing = missing_values / data.shape[0] * 100\n",
    "  percent_missing = percent_missing.round(2) \n",
    "\n",
    "  summary = pd.concat([percent_missing, data.nunique(), data.dtypes], keys=['PercentageMissing', 'Nunique values', 'Dtype'], axis = 1)\n",
    "\n",
    "  return summary"
   ]
  },
  {
   "cell_type": "code",
   "execution_count": 8,
   "metadata": {
    "colab": {
     "base_uri": "https://localhost:8080/",
     "height": 328
    },
    "executionInfo": {
     "elapsed": 24,
     "status": "ok",
     "timestamp": 1624190740118,
     "user": {
      "displayName": "Anh Dang Quy",
      "photoUrl": "https://lh3.googleusercontent.com/a-/AOh14Gjc9oywxROujI5Y7HUJPeay-CsytQ-LfJr_OOSl=s64",
      "userId": "02485246420508664150"
     },
     "user_tz": -420
    },
    "id": "WB3NpwAKHqdt",
    "outputId": "7b9f34ac-278c-4f69-8909-1ca8b5b56f13"
   },
   "outputs": [
    {
     "data": {
      "text/html": [
       "<div>\n",
       "<style scoped>\n",
       "    .dataframe tbody tr th:only-of-type {\n",
       "        vertical-align: middle;\n",
       "    }\n",
       "\n",
       "    .dataframe tbody tr th {\n",
       "        vertical-align: top;\n",
       "    }\n",
       "\n",
       "    .dataframe thead th {\n",
       "        text-align: right;\n",
       "    }\n",
       "</style>\n",
       "<table border=\"1\" class=\"dataframe\">\n",
       "  <thead>\n",
       "    <tr style=\"text-align: right;\">\n",
       "      <th></th>\n",
       "      <th>PercentageMissing</th>\n",
       "      <th>Nunique values</th>\n",
       "      <th>Dtype</th>\n",
       "    </tr>\n",
       "  </thead>\n",
       "  <tbody>\n",
       "    <tr>\n",
       "      <th>Serial No.</th>\n",
       "      <td>0.0</td>\n",
       "      <td>500</td>\n",
       "      <td>int64</td>\n",
       "    </tr>\n",
       "    <tr>\n",
       "      <th>GRE Score</th>\n",
       "      <td>0.0</td>\n",
       "      <td>49</td>\n",
       "      <td>int64</td>\n",
       "    </tr>\n",
       "    <tr>\n",
       "      <th>TOEFL Score</th>\n",
       "      <td>0.0</td>\n",
       "      <td>29</td>\n",
       "      <td>int64</td>\n",
       "    </tr>\n",
       "    <tr>\n",
       "      <th>University Rating</th>\n",
       "      <td>0.0</td>\n",
       "      <td>5</td>\n",
       "      <td>int64</td>\n",
       "    </tr>\n",
       "    <tr>\n",
       "      <th>SOP</th>\n",
       "      <td>0.0</td>\n",
       "      <td>9</td>\n",
       "      <td>float64</td>\n",
       "    </tr>\n",
       "    <tr>\n",
       "      <th>LOR</th>\n",
       "      <td>0.0</td>\n",
       "      <td>9</td>\n",
       "      <td>float64</td>\n",
       "    </tr>\n",
       "    <tr>\n",
       "      <th>CGPA</th>\n",
       "      <td>0.0</td>\n",
       "      <td>184</td>\n",
       "      <td>float64</td>\n",
       "    </tr>\n",
       "    <tr>\n",
       "      <th>Research</th>\n",
       "      <td>0.0</td>\n",
       "      <td>2</td>\n",
       "      <td>int64</td>\n",
       "    </tr>\n",
       "    <tr>\n",
       "      <th>Chance of Admit</th>\n",
       "      <td>0.0</td>\n",
       "      <td>61</td>\n",
       "      <td>float64</td>\n",
       "    </tr>\n",
       "  </tbody>\n",
       "</table>\n",
       "</div>"
      ],
      "text/plain": [
       "                   PercentageMissing  Nunique values    Dtype\n",
       "Serial No.                       0.0             500    int64\n",
       "GRE Score                        0.0              49    int64\n",
       "TOEFL Score                      0.0              29    int64\n",
       "University Rating                0.0               5    int64\n",
       "SOP                              0.0               9  float64\n",
       "LOR                              0.0               9  float64\n",
       "CGPA                             0.0             184  float64\n",
       "Research                         0.0               2    int64\n",
       "Chance of Admit                  0.0              61  float64"
      ]
     },
     "execution_count": 8,
     "metadata": {
      "tags": []
     },
     "output_type": "execute_result"
    }
   ],
   "source": [
    "summary(data)"
   ]
  },
  {
   "cell_type": "code",
   "execution_count": 9,
   "metadata": {
    "colab": {
     "base_uri": "https://localhost:8080/"
    },
    "executionInfo": {
     "elapsed": 23,
     "status": "ok",
     "timestamp": 1624190740120,
     "user": {
      "displayName": "Anh Dang Quy",
      "photoUrl": "https://lh3.googleusercontent.com/a-/AOh14Gjc9oywxROujI5Y7HUJPeay-CsytQ-LfJr_OOSl=s64",
      "userId": "02485246420508664150"
     },
     "user_tz": -420
    },
    "id": "ANPRP4n8gInU",
    "outputId": "a8749d8f-5c4d-4d45-dd43-a310501e3f81"
   },
   "outputs": [
    {
     "data": {
      "text/plain": [
       "Index(['Serial No.', 'GRE Score', 'TOEFL Score', 'University Rating', 'SOP',\n",
       "       'LOR ', 'CGPA', 'Research', 'Chance of Admit '],\n",
       "      dtype='object')"
      ]
     },
     "execution_count": 9,
     "metadata": {
      "tags": []
     },
     "output_type": "execute_result"
    }
   ],
   "source": [
    "data.columns"
   ]
  },
  {
   "cell_type": "markdown",
   "metadata": {
    "id": "X003dVWJH9Mv"
   },
   "source": [
    "# **Visualization**"
   ]
  },
  {
   "cell_type": "code",
   "execution_count": 10,
   "metadata": {
    "colab": {
     "base_uri": "https://localhost:8080/",
     "height": 337
    },
    "executionInfo": {
     "elapsed": 629,
     "status": "ok",
     "timestamp": 1624190740732,
     "user": {
      "displayName": "Anh Dang Quy",
      "photoUrl": "https://lh3.googleusercontent.com/a-/AOh14Gjc9oywxROujI5Y7HUJPeay-CsytQ-LfJr_OOSl=s64",
      "userId": "02485246420508664150"
     },
     "user_tz": -420
    },
    "id": "rCj_4br3Uw3H",
    "outputId": "4ba0b2ad-98ad-4c5f-f162-db6228419a3f"
   },
   "outputs": [
    {
     "data": {
      "image/png": "[encoded data removed]",
      "text/plain": [
       "<Figure size 1080x360 with 3 Axes>"
      ]
     },
     "metadata": {
      "needs_background": "light",
      "tags": []
     },
     "output_type": "display_data"
    }
   ],
   "source": [
    "from matplotlib.gridspec import GridSpec\n",
    "plt.figure(figsize=(15, 5)) # Set figsize\n",
    "# Your code here\n",
    "gses = GridSpec(1, 3)\n",
    "\n",
    "continuous_columns_name = ['GRE Score', 'TOEFL Score', 'CGPA']\n",
    "\n",
    "for i, gs in enumerate(gses):\n",
    "  ax = plt.subplot(gs)\n",
    "  sns.scatterplot(x = data[continuous_columns_name[i]], y = data['Chance of Admit '])"
   ]
  },
  {
   "cell_type": "code",
   "execution_count": 11,
   "metadata": {
    "colab": {
     "base_uri": "https://localhost:8080/",
     "height": 334
    },
    "executionInfo": {
     "elapsed": 388,
     "status": "ok",
     "timestamp": 1624190741116,
     "user": {
      "displayName": "Anh Dang Quy",
      "photoUrl": "https://lh3.googleusercontent.com/a-/AOh14Gjc9oywxROujI5Y7HUJPeay-CsytQ-LfJr_OOSl=s64",
      "userId": "02485246420508664150"
     },
     "user_tz": -420
    },
    "id": "LPG6jgqzQEXk",
    "outputId": "7a2daaec-613a-4bbc-db9a-2cc2fa139fc4"
   },
   "outputs": [
    {
     "data": {
      "image/png": "[encoded data removed]",
      "text/plain": [
       "<Figure size 1080x360 with 3 Axes>"
      ]
     },
     "metadata": {
      "needs_background": "light",
      "tags": []
     },
     "output_type": "display_data"
    }
   ],
   "source": [
    "plt.figure(figsize=(15, 5))\n",
    "gses = GridSpec(1, 3)\n",
    "\n",
    "discrete_columns_name = ['SOP', 'LOR ', 'Research']\n",
    "\n",
    "for i, gs in enumerate(gses):\n",
    "  ax = plt.subplot(gs)\n",
    "  sns.countplot(x = data[discrete_columns_name[i]])"
   ]
  },
  {
   "cell_type": "markdown",
   "metadata": {
    "id": "4f_fMc2knjQj"
   },
   "source": [
    "# **Data Processing**"
   ]
  },
  {
   "cell_type": "code",
   "execution_count": 21,
   "metadata": {
    "colab": {
     "base_uri": "https://localhost:8080/"
    },
    "executionInfo": {
     "elapsed": 417,
     "status": "ok",
     "timestamp": 1624191163470,
     "user": {
      "displayName": "Anh Dang Quy",
      "photoUrl": "https://lh3.googleusercontent.com/a-/AOh14Gjc9oywxROujI5Y7HUJPeay-CsytQ-LfJr_OOSl=s64",
      "userId": "02485246420508664150"
     },
     "user_tz": -420
    },
    "id": "gHyYuq0OnqmF",
    "outputId": "77a0b5e5-1825-4f22-b3c6-bda9ea0e05a7"
   },
   "outputs": [
    {
     "data": {
      "text/plain": [
       "(500,)"
      ]
     },
     "execution_count": 21,
     "metadata": {
      "tags": []
     },
     "output_type": "execute_result"
    }
   ],
   "source": [
    "X = data.iloc[:, 1:8]\n",
    "y = data.iloc[:, -1]\n",
    "y.shape"
   ]
  },
  {
   "cell_type": "code",
   "execution_count": 13,
   "metadata": {
    "colab": {
     "base_uri": "https://localhost:8080/",
     "height": 204
    },
    "executionInfo": {
     "elapsed": 21,
     "status": "ok",
     "timestamp": 1624190741121,
     "user": {
      "displayName": "Anh Dang Quy",
      "photoUrl": "https://lh3.googleusercontent.com/a-/AOh14Gjc9oywxROujI5Y7HUJPeay-CsytQ-LfJr_OOSl=s64",
      "userId": "02485246420508664150"
     },
     "user_tz": -420
    },
    "id": "mI3OB_GLnvDh",
    "outputId": "89810eae-b631-4651-e6a6-6774ce6fa522"
   },
   "outputs": [
    {
     "data": {
      "text/html": [
       "<div>\n",
       "<style scoped>\n",
       "    .dataframe tbody tr th:only-of-type {\n",
       "        vertical-align: middle;\n",
       "    }\n",
       "\n",
       "    .dataframe tbody tr th {\n",
       "        vertical-align: top;\n",
       "    }\n",
       "\n",
       "    .dataframe thead th {\n",
       "        text-align: right;\n",
       "    }\n",
       "</style>\n",
       "<table border=\"1\" class=\"dataframe\">\n",
       "  <thead>\n",
       "    <tr style=\"text-align: right;\">\n",
       "      <th></th>\n",
       "      <th>GRE Score</th>\n",
       "      <th>TOEFL Score</th>\n",
       "      <th>University Rating</th>\n",
       "      <th>SOP</th>\n",
       "      <th>LOR</th>\n",
       "      <th>CGPA</th>\n",
       "      <th>Research</th>\n",
       "    </tr>\n",
       "  </thead>\n",
       "  <tbody>\n",
       "    <tr>\n",
       "      <th>0</th>\n",
       "      <td>337</td>\n",
       "      <td>118</td>\n",
       "      <td>4</td>\n",
       "      <td>4.5</td>\n",
       "      <td>4.5</td>\n",
       "      <td>9.65</td>\n",
       "      <td>1</td>\n",
       "    </tr>\n",
       "    <tr>\n",
       "      <th>1</th>\n",
       "      <td>324</td>\n",
       "      <td>107</td>\n",
       "      <td>4</td>\n",
       "      <td>4.0</td>\n",
       "      <td>4.5</td>\n",
       "      <td>8.87</td>\n",
       "      <td>1</td>\n",
       "    </tr>\n",
       "    <tr>\n",
       "      <th>2</th>\n",
       "      <td>316</td>\n",
       "      <td>104</td>\n",
       "      <td>3</td>\n",
       "      <td>3.0</td>\n",
       "      <td>3.5</td>\n",
       "      <td>8.00</td>\n",
       "      <td>1</td>\n",
       "    </tr>\n",
       "    <tr>\n",
       "      <th>3</th>\n",
       "      <td>322</td>\n",
       "      <td>110</td>\n",
       "      <td>3</td>\n",
       "      <td>3.5</td>\n",
       "      <td>2.5</td>\n",
       "      <td>8.67</td>\n",
       "      <td>1</td>\n",
       "    </tr>\n",
       "    <tr>\n",
       "      <th>4</th>\n",
       "      <td>314</td>\n",
       "      <td>103</td>\n",
       "      <td>2</td>\n",
       "      <td>2.0</td>\n",
       "      <td>3.0</td>\n",
       "      <td>8.21</td>\n",
       "      <td>0</td>\n",
       "    </tr>\n",
       "  </tbody>\n",
       "</table>\n",
       "</div>"
      ],
      "text/plain": [
       "   GRE Score  TOEFL Score  University Rating  SOP  LOR   CGPA  Research\n",
       "0        337          118                  4  4.5   4.5  9.65         1\n",
       "1        324          107                  4  4.0   4.5  8.87         1\n",
       "2        316          104                  3  3.0   3.5  8.00         1\n",
       "3        322          110                  3  3.5   2.5  8.67         1\n",
       "4        314          103                  2  2.0   3.0  8.21         0"
      ]
     },
     "execution_count": 13,
     "metadata": {
      "tags": []
     },
     "output_type": "execute_result"
    }
   ],
   "source": [
    "# X = pd.get_dummies(data=X, columns=discrete_columns_name)\n",
    "X.head()"
   ]
  },
  {
   "cell_type": "markdown",
   "metadata": {
    "id": "NSGOwG41iINg"
   },
   "source": [
    "# **Training Model**"
   ]
  },
  {
   "cell_type": "code",
   "execution_count": 14,
   "metadata": {
    "colab": {
     "base_uri": "https://localhost:8080/"
    },
    "executionInfo": {
     "elapsed": 423,
     "status": "ok",
     "timestamp": 1624190741527,
     "user": {
      "displayName": "Anh Dang Quy",
      "photoUrl": "https://lh3.googleusercontent.com/a-/AOh14Gjc9oywxROujI5Y7HUJPeay-CsytQ-LfJr_OOSl=s64",
      "userId": "02485246420508664150"
     },
     "user_tz": -420
    },
    "id": "Ebo1aeeLfNgX",
    "outputId": "eeccc6f9-5118-4d4a-c91a-8f11308e85dd"
   },
   "outputs": [
    {
     "data": {
      "text/plain": [
       "0.8223444375427976"
      ]
     },
     "execution_count": 14,
     "metadata": {
      "tags": []
     },
     "output_type": "execute_result"
    }
   ],
   "source": [
    "from sklearn.model_selection import train_test_split\n",
    "from sklearn.linear_model import LinearRegression\n",
    "\n",
    "X_train, X_test, y_train, y_test = train_test_split(X, y, random_state=42, test_size=0.25)\n",
    "\n",
    "lr = LinearRegression()\n",
    "lr.fit(X_train, y_train)\n",
    "\n",
    "lr.score(X_train, y_train)"
   ]
  },
  {
   "cell_type": "code",
   "execution_count": 15,
   "metadata": {
    "colab": {
     "base_uri": "https://localhost:8080/"
    },
    "executionInfo": {
     "elapsed": 19,
     "status": "ok",
     "timestamp": 1624190741529,
     "user": {
      "displayName": "Anh Dang Quy",
      "photoUrl": "https://lh3.googleusercontent.com/a-/AOh14Gjc9oywxROujI5Y7HUJPeay-CsytQ-LfJr_OOSl=s64",
      "userId": "02485246420508664150"
     },
     "user_tz": -420
    },
    "id": "YUnL5_W7NLl_",
    "outputId": "6cbc2374-ea4a-4815-c7ef-2f28a2499c7e"
   },
   "outputs": [
    {
     "data": {
      "text/plain": [
       "0.8163213016062121"
      ]
     },
     "execution_count": 15,
     "metadata": {
      "tags": []
     },
     "output_type": "execute_result"
    }
   ],
   "source": [
    "from sklearn.metrics import r2_score\n",
    "pred = lr.predict(X_test)\n",
    "r2_score(y_test, pred)"
   ]
  },
  {
   "cell_type": "markdown",
   "metadata": {
    "id": "Jbe9Dguw9tcm"
   },
   "source": [
    "# **TensorFlow**"
   ]
  },
  {
   "cell_type": "code",
   "execution_count": 16,
   "metadata": {
    "executionInfo": {
     "elapsed": 13,
     "status": "ok",
     "timestamp": 1624190741530,
     "user": {
      "displayName": "Anh Dang Quy",
      "photoUrl": "https://lh3.googleusercontent.com/a-/AOh14Gjc9oywxROujI5Y7HUJPeay-CsytQ-LfJr_OOSl=s64",
      "userId": "02485246420508664150"
     },
     "user_tz": -420
    },
    "id": "GrWn0dPlNl4H"
   },
   "outputs": [],
   "source": [
    "from sklearn.preprocessing import StandardScaler, Normalizer\n",
    "# from sklearn.compose import ColumnTransformer\n",
    "\n",
    "# ct = ColumnTransformer([(\"scale\", StandardScaler(), continuous_columns_name)], remainder=\"passthrough\")\n",
    "# X_train_sl = ct.fit_transform(X_train)\n",
    "# X_test_sl = ct.transform(X_test)\n",
    "\n",
    "sc = StandardScaler()\n",
    "X_train_scale = sc.fit_transform(X_train)\n",
    "X_test_scale = sc.transform(X_test)"
   ]
  },
  {
   "cell_type": "code",
   "execution_count": 17,
   "metadata": {
    "colab": {
     "base_uri": "https://localhost:8080/"
    },
    "executionInfo": {
     "elapsed": 7212,
     "status": "ok",
     "timestamp": 1624190748732,
     "user": {
      "displayName": "Anh Dang Quy",
      "photoUrl": "https://lh3.googleusercontent.com/a-/AOh14Gjc9oywxROujI5Y7HUJPeay-CsytQ-LfJr_OOSl=s64",
      "userId": "02485246420508664150"
     },
     "user_tz": -420
    },
    "id": "VPssumgH64o_",
    "outputId": "49df58fb-b45d-4ddb-ed26-750fecfc7a7f"
   },
   "outputs": [
    {
     "name": "stdout",
     "output_type": "stream",
     "text": [
      "Epoch 00077: early stopping\n"
     ]
    }
   ],
   "source": [
    "from tensorflow import keras\n",
    "from tensorflow.keras import layers\n",
    "from tensorflow.keras.callbacks import EarlyStopping\n",
    "\n",
    "model = keras.Sequential([\n",
    "                          layers.Dense(16, activation='relu', input_shape = [X.shape[1]]),\n",
    "                          layers.Dropout(0.1),\n",
    "                          layers.Dense(8, activation='relu'),\n",
    "                          layers.Dropout(0.2),\n",
    "                          layers.Dense(1)\n",
    "])\n",
    "\n",
    "es = EarlyStopping(monitor='val_loss', mode='min', verbose=1, patience=20)\n",
    "optimizer = keras.optimizers.Adam(0.005)\n",
    "model.compile(optimizer=optimizer, loss='mse', metrics=['mae'])\n",
    "\n",
    "history = model.fit(X_train_scale, y_train, epochs=100, batch_size=10, validation_split=0.25, verbose=0, callbacks=[es])"
   ]
  },
  {
   "cell_type": "code",
   "execution_count": 18,
   "metadata": {
    "colab": {
     "base_uri": "https://localhost:8080/",
     "height": 282
    },
    "executionInfo": {
     "elapsed": 9,
     "status": "ok",
     "timestamp": 1624190748733,
     "user": {
      "displayName": "Anh Dang Quy",
      "photoUrl": "https://lh3.googleusercontent.com/a-/AOh14Gjc9oywxROujI5Y7HUJPeay-CsytQ-LfJr_OOSl=s64",
      "userId": "02485246420508664150"
     },
     "user_tz": -420
    },
    "id": "FpeTRNdsAHDm",
    "outputId": "08cb185c-00b9-4080-94eb-4d0767cd2e90"
   },
   "outputs": [
    {
     "data": {
      "image/png": "[encoded data removed]",
      "text/plain": [
       "<Figure size 432x288 with 2 Axes>"
      ]
     },
     "metadata": {
      "needs_background": "light",
      "tags": []
     },
     "output_type": "display_data"
    }
   ],
   "source": [
    "import matplotlib.pyplot as plt\n",
    "\n",
    "def plot(history):\n",
    "  #plotting\n",
    "  fig, axs = plt.subplots(1, 2, gridspec_kw={'hspace': 1, 'wspace': 0.5}) \n",
    "  (ax1, ax2) = axs\n",
    "  ax1.plot(history.history['loss'], label='train')\n",
    "  ax1.plot(history.history['val_loss'], label='validation')\n",
    "  ax1.legend(loc=\"upper right\")\n",
    "  ax1.set_xlabel(\"# of epochs\")\n",
    "  ax1.set_ylabel(\"loss (mse)\")\n",
    "\n",
    "  ax2.plot(history.history['mae'], label='train')\n",
    "  ax2.plot(history.history['val_mae'], label='validation')\n",
    "  ax2.legend(loc=\"upper right\")\n",
    "  ax2.set_xlabel(\"# of epochs\")\n",
    "  ax2.set_ylabel(\"MAE\")\n",
    "\n",
    "plot(history)"
   ]
  },
  {
   "cell_type": "code",
   "execution_count": 19,
   "metadata": {
    "colab": {
     "base_uri": "https://localhost:8080/"
    },
    "executionInfo": {
     "elapsed": 538,
     "status": "ok",
     "timestamp": 1624190749264,
     "user": {
      "displayName": "Anh Dang Quy",
      "photoUrl": "https://lh3.googleusercontent.com/a-/AOh14Gjc9oywxROujI5Y7HUJPeay-CsytQ-LfJr_OOSl=s64",
      "userId": "02485246420508664150"
     },
     "user_tz": -420
    },
    "id": "RsnCA76ZCVh1",
    "outputId": "dc858dcc-4c8c-415b-9503-e25eccf83a8d"
   },
   "outputs": [
    {
     "data": {
      "text/plain": [
       "0.6745722151792493"
      ]
     },
     "execution_count": 19,
     "metadata": {
      "tags": []
     },
     "output_type": "execute_result"
    }
   ],
   "source": [
    "y_pred = model.predict(X_test_scale)\n",
    "r2_score(y_pred, y_test)"
   ]
  }
 ],
 "metadata": {
  "colab": {
   "authorship_tag": "ABX9TyNRu6PmUNwT2N9l2n/fME1C",
   "collapsed_sections": [],
   "mount_file_id": "1cBRn67muzw2a8wTxT4rCoErVYA6y148g",
   "name": "Admission_Grade_Regression_Challenge.ipynb",
   "provenance": []
  },
  "kernelspec": {
   "display_name": "Python 3",
   "language": "python",
   "name": "python3"
  },
  "language_info": {
   "codemirror_mode": {
    "name": "ipython",
    "version": 3
   },
   "file_extension": ".py",
   "mimetype": "text/x-python",
   "name": "python",
   "nbconvert_exporter": "python",
   "pygments_lexer": "ipython3",
   "version": "3.8.10"
  }
 },
 "nbformat": 4,
 "nbformat_minor": 1
}
